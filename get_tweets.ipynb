{
  "nbformat": 4,
  "nbformat_minor": 0,
  "metadata": {
    "colab": {
      "name": "get_tweets.ipynb",
      "provenance": []
    },
    "kernelspec": {
      "name": "python3",
      "display_name": "Python 3"
    },
    "widgets": {
      "application/vnd.jupyter.widget-state+json": {
        "d9eaba9b316445a28cb2d0e7c1cdd41a": {
          "model_module": "@jupyter-widgets/controls",
          "model_name": "HBoxModel",
          "state": {
            "_view_name": "HBoxView",
            "_dom_classes": [],
            "_model_name": "HBoxModel",
            "_view_module": "@jupyter-widgets/controls",
            "_model_module_version": "1.5.0",
            "_view_count": null,
            "_view_module_version": "1.5.0",
            "box_style": "",
            "layout": "IPY_MODEL_e6e30ce7b7964cc28162744f2bfa6472",
            "_model_module": "@jupyter-widgets/controls",
            "children": [
              "IPY_MODEL_3c158423e8714cb596c738ca12698c03",
              "IPY_MODEL_4c262698011a4c44aa7f7174a12bee47"
            ]
          }
        },
        "e6e30ce7b7964cc28162744f2bfa6472": {
          "model_module": "@jupyter-widgets/base",
          "model_name": "LayoutModel",
          "state": {
            "_view_name": "LayoutView",
            "grid_template_rows": null,
            "right": null,
            "justify_content": null,
            "_view_module": "@jupyter-widgets/base",
            "overflow": null,
            "_model_module_version": "1.2.0",
            "_view_count": null,
            "flex_flow": null,
            "width": null,
            "min_width": null,
            "border": null,
            "align_items": null,
            "bottom": null,
            "_model_module": "@jupyter-widgets/base",
            "top": null,
            "grid_column": null,
            "overflow_y": null,
            "overflow_x": null,
            "grid_auto_flow": null,
            "grid_area": null,
            "grid_template_columns": null,
            "flex": null,
            "_model_name": "LayoutModel",
            "justify_items": null,
            "grid_row": null,
            "max_height": null,
            "align_content": null,
            "visibility": null,
            "align_self": null,
            "height": null,
            "min_height": null,
            "padding": null,
            "grid_auto_rows": null,
            "grid_gap": null,
            "max_width": null,
            "order": null,
            "_view_module_version": "1.2.0",
            "grid_template_areas": null,
            "object_position": null,
            "object_fit": null,
            "grid_auto_columns": null,
            "margin": null,
            "display": null,
            "left": null
          }
        },
        "3c158423e8714cb596c738ca12698c03": {
          "model_module": "@jupyter-widgets/controls",
          "model_name": "FloatProgressModel",
          "state": {
            "_view_name": "ProgressView",
            "style": "IPY_MODEL_d4a8238fc28a4abfb91fd6413f98c978",
            "_dom_classes": [],
            "description": "Batches: 100%",
            "_model_name": "FloatProgressModel",
            "bar_style": "success",
            "max": 4,
            "_view_module": "@jupyter-widgets/controls",
            "_model_module_version": "1.5.0",
            "value": 4,
            "_view_count": null,
            "_view_module_version": "1.5.0",
            "orientation": "horizontal",
            "min": 0,
            "description_tooltip": null,
            "_model_module": "@jupyter-widgets/controls",
            "layout": "IPY_MODEL_ed0941eb70de400f8cfa2ead4ff357f8"
          }
        },
        "4c262698011a4c44aa7f7174a12bee47": {
          "model_module": "@jupyter-widgets/controls",
          "model_name": "HTMLModel",
          "state": {
            "_view_name": "HTMLView",
            "style": "IPY_MODEL_45f8f4cda4c64ec28f8d191d0f67f996",
            "_dom_classes": [],
            "description": "",
            "_model_name": "HTMLModel",
            "placeholder": "​",
            "_view_module": "@jupyter-widgets/controls",
            "_model_module_version": "1.5.0",
            "value": " 4/4 [05:13&lt;00:00, 78.48s/it]",
            "_view_count": null,
            "_view_module_version": "1.5.0",
            "description_tooltip": null,
            "_model_module": "@jupyter-widgets/controls",
            "layout": "IPY_MODEL_bda0248de8894ed1b230a3a1691e9508"
          }
        },
        "d4a8238fc28a4abfb91fd6413f98c978": {
          "model_module": "@jupyter-widgets/controls",
          "model_name": "ProgressStyleModel",
          "state": {
            "_view_name": "StyleView",
            "_model_name": "ProgressStyleModel",
            "description_width": "initial",
            "_view_module": "@jupyter-widgets/base",
            "_model_module_version": "1.5.0",
            "_view_count": null,
            "_view_module_version": "1.2.0",
            "bar_color": null,
            "_model_module": "@jupyter-widgets/controls"
          }
        },
        "ed0941eb70de400f8cfa2ead4ff357f8": {
          "model_module": "@jupyter-widgets/base",
          "model_name": "LayoutModel",
          "state": {
            "_view_name": "LayoutView",
            "grid_template_rows": null,
            "right": null,
            "justify_content": null,
            "_view_module": "@jupyter-widgets/base",
            "overflow": null,
            "_model_module_version": "1.2.0",
            "_view_count": null,
            "flex_flow": null,
            "width": null,
            "min_width": null,
            "border": null,
            "align_items": null,
            "bottom": null,
            "_model_module": "@jupyter-widgets/base",
            "top": null,
            "grid_column": null,
            "overflow_y": null,
            "overflow_x": null,
            "grid_auto_flow": null,
            "grid_area": null,
            "grid_template_columns": null,
            "flex": null,
            "_model_name": "LayoutModel",
            "justify_items": null,
            "grid_row": null,
            "max_height": null,
            "align_content": null,
            "visibility": null,
            "align_self": null,
            "height": null,
            "min_height": null,
            "padding": null,
            "grid_auto_rows": null,
            "grid_gap": null,
            "max_width": null,
            "order": null,
            "_view_module_version": "1.2.0",
            "grid_template_areas": null,
            "object_position": null,
            "object_fit": null,
            "grid_auto_columns": null,
            "margin": null,
            "display": null,
            "left": null
          }
        },
        "45f8f4cda4c64ec28f8d191d0f67f996": {
          "model_module": "@jupyter-widgets/controls",
          "model_name": "DescriptionStyleModel",
          "state": {
            "_view_name": "StyleView",
            "_model_name": "DescriptionStyleModel",
            "description_width": "",
            "_view_module": "@jupyter-widgets/base",
            "_model_module_version": "1.5.0",
            "_view_count": null,
            "_view_module_version": "1.2.0",
            "_model_module": "@jupyter-widgets/controls"
          }
        },
        "bda0248de8894ed1b230a3a1691e9508": {
          "model_module": "@jupyter-widgets/base",
          "model_name": "LayoutModel",
          "state": {
            "_view_name": "LayoutView",
            "grid_template_rows": null,
            "right": null,
            "justify_content": null,
            "_view_module": "@jupyter-widgets/base",
            "overflow": null,
            "_model_module_version": "1.2.0",
            "_view_count": null,
            "flex_flow": null,
            "width": null,
            "min_width": null,
            "border": null,
            "align_items": null,
            "bottom": null,
            "_model_module": "@jupyter-widgets/base",
            "top": null,
            "grid_column": null,
            "overflow_y": null,
            "overflow_x": null,
            "grid_auto_flow": null,
            "grid_area": null,
            "grid_template_columns": null,
            "flex": null,
            "_model_name": "LayoutModel",
            "justify_items": null,
            "grid_row": null,
            "max_height": null,
            "align_content": null,
            "visibility": null,
            "align_self": null,
            "height": null,
            "min_height": null,
            "padding": null,
            "grid_auto_rows": null,
            "grid_gap": null,
            "max_width": null,
            "order": null,
            "_view_module_version": "1.2.0",
            "grid_template_areas": null,
            "object_position": null,
            "object_fit": null,
            "grid_auto_columns": null,
            "margin": null,
            "display": null,
            "left": null
          }
        }
      }
    }
  },
  "cells": [
    {
      "cell_type": "markdown",
      "metadata": {
        "id": "DLWnf7AqFnsK"
      },
      "source": [
        "IMPORT TWEEPY"
      ]
    },
    {
      "cell_type": "code",
      "metadata": {
        "id": "HZciyHT7FutP"
      },
      "source": [
        "import os\r\n",
        "import tweepy as tw\r\n",
        "import pandas as pd"
      ],
      "execution_count": 2,
      "outputs": []
    },
    {
      "cell_type": "markdown",
      "metadata": {
        "id": "HTjioMruHvW3"
      },
      "source": [
        "Give Twitter Access keys  - Input Twitter Access keys"
      ]
    },
    {
      "cell_type": "code",
      "metadata": {
        "id": "xLAH3h9mF32c"
      },
      "source": [
        "consumer_key= ''\r\n",
        "consumer_secret= ''\r\n",
        "access_token= ''\r\n",
        "access_token_secret= ''"
      ],
      "execution_count": 3,
      "outputs": []
    },
    {
      "cell_type": "code",
      "metadata": {
        "id": "nFaxDM9IGOZf"
      },
      "source": [
        "auth = tw.OAuthHandler(consumer_key, consumer_secret)\r\n",
        "auth.set_access_token(access_token, access_token_secret)\r\n",
        "api = tw.API(auth, wait_on_rate_limit=True)\r\n"
      ],
      "execution_count": 4,
      "outputs": []
    },
    {
      "cell_type": "code",
      "metadata": {
        "id": "ZB3n8rMjGUZ_"
      },
      "source": [
        "# Define the search term and the date_since date as variables\r\n",
        "search_words = \"FDA+covid+vaccine -filter:retweets\"\r\n",
        "date_since = \"2020-12-05\"\r\n",
        "date_until = \"2020-12-11\""
      ],
      "execution_count": 5,
      "outputs": []
    },
    {
      "cell_type": "code",
      "metadata": {
        "colab": {
          "base_uri": "https://localhost:8080/"
        },
        "id": "RZGYPPCrGk9i",
        "outputId": "1516b6f3-a3b0-4d44-8d1f-ad964317c8c0"
      },
      "source": [
        "# Collect tweets\r\n",
        "tweets = tw.Cursor(api.search,\r\n",
        "              q=search_words,\r\n",
        "              tweet_mode='extended',\r\n",
        "              geocode=\"42.3601,-71.0589,5mi\",\r\n",
        "              lang=\"en\",\r\n",
        "              since=date_since,\r\n",
        "              until=date_until).items(5000)\r\n",
        "tweets"
      ],
      "execution_count": 6,
      "outputs": [
        {
          "output_type": "execute_result",
          "data": {
            "text/plain": [
              "<tweepy.cursor.ItemIterator at 0x7f676bd4bd68>"
            ]
          },
          "metadata": {
            "tags": []
          },
          "execution_count": 6
        }
      ]
    },
    {
      "cell_type": "code",
      "metadata": {
        "colab": {
          "base_uri": "https://localhost:8080/",
          "height": 197
        },
        "id": "98stbbkuHkTd",
        "outputId": "521de7ab-7adc-4148-ffff-58d7639ba971"
      },
      "source": [
        "users_locs = [[tweet.user.screen_name, tweet.user.location, tweet.full_text] for tweet in tweets]\r\n",
        "dataset = pd.DataFrame(data=users_locs, \r\n",
        "                    columns=['user', \"location\", \"TWEETS\"])\r\n",
        "dataset.head()\r\n"
      ],
      "execution_count": 7,
      "outputs": [
        {
          "output_type": "execute_result",
          "data": {
            "text/html": [
              "<div>\n",
              "<style scoped>\n",
              "    .dataframe tbody tr th:only-of-type {\n",
              "        vertical-align: middle;\n",
              "    }\n",
              "\n",
              "    .dataframe tbody tr th {\n",
              "        vertical-align: top;\n",
              "    }\n",
              "\n",
              "    .dataframe thead th {\n",
              "        text-align: right;\n",
              "    }\n",
              "</style>\n",
              "<table border=\"1\" class=\"dataframe\">\n",
              "  <thead>\n",
              "    <tr style=\"text-align: right;\">\n",
              "      <th></th>\n",
              "      <th>user</th>\n",
              "      <th>location</th>\n",
              "      <th>TWEETS</th>\n",
              "    </tr>\n",
              "  </thead>\n",
              "  <tbody>\n",
              "    <tr>\n",
              "      <th>0</th>\n",
              "      <td>HelenBranswell</td>\n",
              "      <td>Boston, MA</td>\n",
              "      <td>Well, that was a day!\\n#VRBPAC #Covid19 #Pfize...</td>\n",
              "    </tr>\n",
              "    <tr>\n",
              "      <th>1</th>\n",
              "      <td>ZaqsPolitics</td>\n",
              "      <td>Boston, MA</td>\n",
              "      <td>FDA advisory panel endorses widespread use of ...</td>\n",
              "    </tr>\n",
              "    <tr>\n",
              "      <th>2</th>\n",
              "      <td>FindWESdotcom</td>\n",
              "      <td>Boston, MA</td>\n",
              "      <td>FDA panel recommends approval of Pfizer/BioNTe...</td>\n",
              "    </tr>\n",
              "    <tr>\n",
              "      <th>3</th>\n",
              "      <td>sweetadelinevt</td>\n",
              "      <td>Boston, MA</td>\n",
              "      <td>Here we go----&amp;gt;FDA panel recommends approva...</td>\n",
              "    </tr>\n",
              "    <tr>\n",
              "      <th>4</th>\n",
              "      <td>EricKaneTV</td>\n",
              "      <td>Boston, MA</td>\n",
              "      <td>Breaking News: In a 17-4 vote, a FDA advisory ...</td>\n",
              "    </tr>\n",
              "  </tbody>\n",
              "</table>\n",
              "</div>"
            ],
            "text/plain": [
              "             user  ...                                             TWEETS\n",
              "0  HelenBranswell  ...  Well, that was a day!\\n#VRBPAC #Covid19 #Pfize...\n",
              "1    ZaqsPolitics  ...  FDA advisory panel endorses widespread use of ...\n",
              "2   FindWESdotcom  ...  FDA panel recommends approval of Pfizer/BioNTe...\n",
              "3  sweetadelinevt  ...  Here we go----&gt;FDA panel recommends approva...\n",
              "4      EricKaneTV  ...  Breaking News: In a 17-4 vote, a FDA advisory ...\n",
              "\n",
              "[5 rows x 3 columns]"
            ]
          },
          "metadata": {
            "tags": []
          },
          "execution_count": 7
        }
      ]
    },
    {
      "cell_type": "code",
      "metadata": {
        "colab": {
          "base_uri": "https://localhost:8080/"
        },
        "id": "ehdjm1jmICFn",
        "outputId": "efcc8ed4-bc6b-432b-cb37-97ca229dda78"
      },
      "source": [
        "len(dataset)"
      ],
      "execution_count": 8,
      "outputs": [
        {
          "output_type": "execute_result",
          "data": {
            "text/plain": [
              "110"
            ]
          },
          "metadata": {
            "tags": []
          },
          "execution_count": 8
        }
      ]
    },
    {
      "cell_type": "code",
      "metadata": {
        "id": "VwfdspuV9_YY"
      },
      "source": [
        "import re\r\n",
        "from nltk.tokenize import WordPunctTokenizer\r\n",
        "tok = WordPunctTokenizer()"
      ],
      "execution_count": 9,
      "outputs": []
    },
    {
      "cell_type": "code",
      "metadata": {
        "colab": {
          "base_uri": "https://localhost:8080/"
        },
        "id": "ujq-Bs1iR5-w",
        "outputId": "d0bd5511-d7c1-42c1-a508-fc6d5eac68ab"
      },
      "source": [
        "import re\r\n",
        "corpus = []\r\n",
        "for i in range(len(dataset)):     #  for i in range(0, 1000):\r\n",
        "  text = dataset['TWEETS'][i]\r\n",
        "  #text = text.lower()\r\n",
        "  text = re.sub('(@\\w+)', '', text)  # Removing @ followed by words i.e. usernames\r\n",
        "  text = re.sub('\\w+:\\/{2}[\\d\\w-]+(\\.[\\d\\w-]+)*(?:(?:\\/[^\\s/]*))*', '', text)   # Removing hyperlinks\r\n",
        "  text = re.sub('\\s+', ' ', text) # Removing multiple spaces with single space\r\n",
        "  text = text.strip()\r\n",
        "  dataset['TWEETS'][i] = text \r\n",
        "  #print('The current sample is: ', i)\r\n",
        "print('COMPLETED')"
      ],
      "execution_count": 12,
      "outputs": [
        {
          "output_type": "stream",
          "text": [
            "COMPLETED\n"
          ],
          "name": "stdout"
        }
      ]
    },
    {
      "cell_type": "code",
      "metadata": {
        "id": "7QwyUOJUR6C5"
      },
      "source": [
        "corpus_list = dataset['TWEETS'].values.tolist()\r\n",
        "corpus_list"
      ],
      "execution_count": null,
      "outputs": []
    },
    {
      "cell_type": "code",
      "metadata": {
        "id": "WTRHzteQUBCX"
      },
      "source": [
        "pip install -U sentence-transformers"
      ],
      "execution_count": null,
      "outputs": []
    },
    {
      "cell_type": "code",
      "metadata": {
        "id": "AESzykScT8XY",
        "colab": {
          "base_uri": "https://localhost:8080/"
        },
        "outputId": "a66b1c96-da62-4dda-edee-16963aff55b4"
      },
      "source": [
        "from sentence_transformers import SentenceTransformer\r\n",
        "model = SentenceTransformer('bert-base-nli-mean-tokens')"
      ],
      "execution_count": 15,
      "outputs": [
        {
          "output_type": "stream",
          "text": [
            "100%|██████████| 405M/405M [00:46<00:00, 8.65MB/s]\n"
          ],
          "name": "stderr"
        }
      ]
    },
    {
      "cell_type": "code",
      "metadata": {
        "colab": {
          "base_uri": "https://localhost:8080/",
          "height": 66,
          "referenced_widgets": [
            "d9eaba9b316445a28cb2d0e7c1cdd41a",
            "e6e30ce7b7964cc28162744f2bfa6472",
            "3c158423e8714cb596c738ca12698c03",
            "4c262698011a4c44aa7f7174a12bee47",
            "d4a8238fc28a4abfb91fd6413f98c978",
            "ed0941eb70de400f8cfa2ead4ff357f8",
            "45f8f4cda4c64ec28f8d191d0f67f996",
            "bda0248de8894ed1b230a3a1691e9508"
          ]
        },
        "id": "Oj0Lja3lR6Pb",
        "outputId": "b920c271-d661-4473-c654-771a59138140"
      },
      "source": [
        "sentence_embeddings = model.encode(corpus_list, show_progress_bar=True)"
      ],
      "execution_count": 16,
      "outputs": [
        {
          "output_type": "display_data",
          "data": {
            "application/vnd.jupyter.widget-view+json": {
              "model_id": "d9eaba9b316445a28cb2d0e7c1cdd41a",
              "version_minor": 0,
              "version_major": 2
            },
            "text/plain": [
              "HBox(children=(FloatProgress(value=0.0, description='Batches', max=4.0, style=ProgressStyle(description_width=…"
            ]
          },
          "metadata": {
            "tags": []
          }
        },
        {
          "output_type": "stream",
          "text": [
            "\n"
          ],
          "name": "stdout"
        }
      ]
    },
    {
      "cell_type": "code",
      "metadata": {
        "colab": {
          "base_uri": "https://localhost:8080/"
        },
        "id": "B0vQYmcBSlVV",
        "outputId": "a7c1b8fd-6bd7-489f-be08-5b48f451877e"
      },
      "source": [
        "print('Length of sentence embeddings is: ', len(sentence_embeddings))\r\n",
        "print('Type of sentence embeddings is:', type(sentence_embeddings))"
      ],
      "execution_count": 17,
      "outputs": [
        {
          "output_type": "stream",
          "text": [
            "Length of sentence embeddings is:  110\n",
            "Type of sentence embeddings is: <class 'numpy.ndarray'>\n"
          ],
          "name": "stdout"
        }
      ]
    },
    {
      "cell_type": "code",
      "metadata": {
        "id": "KJQRfBCrW6SC"
      },
      "source": [
        "# Converting the generated 'sentence_embeddings' back to dataframe\r\n",
        "df_embedding = pd.DataFrame(sentence_embeddings)"
      ],
      "execution_count": 18,
      "outputs": []
    },
    {
      "cell_type": "code",
      "metadata": {
        "colab": {
          "base_uri": "https://localhost:8080/"
        },
        "id": "DfKtU5ceUNr6",
        "outputId": "c691b4dc-db23-46ab-8548-64b83e620c52"
      },
      "source": [
        "from google.colab import drive\r\n",
        "drive.mount('/content/drive')"
      ],
      "execution_count": 19,
      "outputs": [
        {
          "output_type": "stream",
          "text": [
            "Mounted at /content/drive\n"
          ],
          "name": "stdout"
        }
      ]
    },
    {
      "cell_type": "code",
      "metadata": {
        "id": "AHiVTrvLVejN"
      },
      "source": [
        "import numpy as np\r\n",
        "import pandas as pd\r\n",
        "import pickle\r\n",
        "import keras\r\n",
        "from array import array\r\n",
        "from numpy import *\r\n",
        "import time"
      ],
      "execution_count": 20,
      "outputs": []
    },
    {
      "cell_type": "code",
      "metadata": {
        "colab": {
          "base_uri": "https://localhost:8080/"
        },
        "id": "oZthTnWRUOfD",
        "outputId": "9fbd96de-c3f6-4afc-d6ab-dd606ea3fe2f"
      },
      "source": [
        "# load the model from disk\r\n",
        "filename = '/content/drive/MyDrive/Covid19/NB_classifier.sav'\r\n",
        "classifier = pickle.load(open(filename, 'rb'))\r\n",
        "#result = loaded_model.score(X_test, y_test)\r\n",
        "#print(result)\r\n",
        "print('embeddings loaded')"
      ],
      "execution_count": 21,
      "outputs": [
        {
          "output_type": "stream",
          "text": [
            "embeddings loaded\n"
          ],
          "name": "stdout"
        }
      ]
    },
    {
      "cell_type": "code",
      "metadata": {
        "id": "OcpqEKnXVZHK"
      },
      "source": [
        ""
      ],
      "execution_count": 21,
      "outputs": []
    },
    {
      "cell_type": "code",
      "metadata": {
        "id": "Puqprh20XN7m"
      },
      "source": [
        ""
      ],
      "execution_count": 21,
      "outputs": []
    },
    {
      "cell_type": "code",
      "metadata": {
        "colab": {
          "base_uri": "https://localhost:8080/"
        },
        "id": "xMz-1Do-XOFX",
        "outputId": "a644b496-ff9d-40b4-cdba-d6ff96ba40d3"
      },
      "source": [
        "# Predicting the Test set results\r\n",
        "y_pred = classifier.predict(df_embedding)\r\n",
        "print('y_pred is: ', y_pred)"
      ],
      "execution_count": 22,
      "outputs": [
        {
          "output_type": "stream",
          "text": [
            "y_pred is:  [4 4 4 4 4 0 0 4 4 4 4 4 4 4 0 4 4 4 0 0 4 4 4 0 4 4 4 0 4 4 4 0 0 4 4 0 4\n",
            " 0 4 0 0 0 4 4 0 4 4 4 4 4 4 0 0 4 4 4 4 4 4 0 4 0 4 0 4 4 0 0 0 0 4 0 4 4\n",
            " 4 0 0 4 4 4 4 0 0 0 0 0 4 4 4 4 4 4 4 4 0 4 0 4 4 4 4 4 4 0 4 4 4 0 0 0]\n"
          ],
          "name": "stdout"
        }
      ]
    },
    {
      "cell_type": "code",
      "metadata": {
        "colab": {
          "base_uri": "https://localhost:8080/"
        },
        "id": "jMoOUoJfXc6U",
        "outputId": "0d857f75-7784-444d-aa22-18d5462eee2b"
      },
      "source": [
        "len(y_pred)"
      ],
      "execution_count": 23,
      "outputs": [
        {
          "output_type": "execute_result",
          "data": {
            "text/plain": [
              "110"
            ]
          },
          "metadata": {
            "tags": []
          },
          "execution_count": 23
        }
      ]
    },
    {
      "cell_type": "code",
      "metadata": {
        "id": "Sgc2ZzdpA_YP"
      },
      "source": [
        "df = pd.DataFrame({ 'label': y_pred})\r\n",
        "\r\n",
        "df['CLASS'] = df['label'].map({0: 'negative', 4 : 'positive'})\r\n",
        "\r\n",
        "pie_chart = df.groupby(['CLASS']).size()\r\n",
        "\r\n"
      ],
      "execution_count": 26,
      "outputs": []
    },
    {
      "cell_type": "code",
      "metadata": {
        "colab": {
          "base_uri": "https://localhost:8080/",
          "height": 248
        },
        "id": "tSQfaa-BJDL7",
        "outputId": "bf9fbf0b-96d0-4f98-ff6b-82630655885d"
      },
      "source": [
        "import matplotlib.pyplot as plt\r\n",
        "import numpy as np\r\n",
        "\r\n",
        "plt.pie(pie_chart, labels=['Negative', 'Positive'], colors=['red', 'green'],\r\n",
        "        autopct='%1.1f%%',\r\n",
        "        shadow=True, startangle=90)\r\n",
        "plt.show()"
      ],
      "execution_count": 27,
      "outputs": [
        {
          "output_type": "display_data",
          "data": {
            "image/png": "[encoded data removed]",
            "text/plain": [
              "<Figure size 432x288 with 1 Axes>"
            ]
          },
          "metadata": {
            "tags": []
          }
        }
      ]
    }
  ]
}